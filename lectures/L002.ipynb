{
 "cells": [
  {
   "cell_type": "markdown",
   "metadata": {},
   "source": [
    "# Функции\n",
    "\n",
    "Предположим в Вашей программе есть какой-то кусок кода, который очень часто фигурирует в разных местах. Чтобы не переписывать один и тот же код несколько раз, в питоне существуют функции. По сути функция - это небольшая отдельная программа, которая получает на вход данные, обрабатывает их и выдает результат. Например, Вам необходимо вычислять произведение первых $n$ чисел. Это маленькая, но завершенная задача, которую можно решать независимо от остальной программы."
   ]
  },
  {
   "cell_type": "code",
   "execution_count": 3,
   "metadata": {},
   "outputs": [
    {
     "name": "stdout",
     "output_type": "stream",
     "text": [
      "1\n",
      "120\n"
     ]
    }
   ],
   "source": [
    "def mul(n):\n",
    "    result = 1\n",
    "    i = 1\n",
    "    while i <= n:\n",
    "        result *= i\n",
    "        i += 1\n",
    "        \n",
    "    return result\n",
    "\n",
    "mul_result1 = mul(1)\n",
    "print(mul_result1)\n",
    "\n",
    "print(mul(5))"
   ]
  },
  {
   "cell_type": "markdown",
   "metadata": {},
   "source": [
    "Определение функции имеет вид:\n",
    "\n",
    "```python\n",
    "def имя_функции(аргументы, функции, разделенные, запятой=значение_по_умолчанию):\n",
    "    \"\"\"Строка документации\"\"\"\n",
    "    Тело функции\n",
    "\n",
    "    Тело отделяется от следующего кода с помощью  четырех пробелов\n",
    "    \n",
    "    return возвращаемое_значение\n",
    "```\n",
    "\n",
    "Вызов функции имеет вид:\n",
    "\n",
    "```python\n",
    "имя_функции(аргументы, функции)\n",
    "```\n",
    "\n",
    "При вызове функции Вы будете иметь доступ к переданным аргументам через переменные с теми же названиями.\n",
    "\n",
    "Так же можно задать аргументам значения по умолчанию (`=значение_по_умолчанию`). Если вы определили значение по умолчанию, этот аргумент можно не передавать в функцию. В таком случае его значению будет присвоено значение по умолчанию."
   ]
  },
  {
   "cell_type": "code",
   "execution_count": 14,
   "metadata": {},
   "outputs": [
    {
     "name": "stdout",
     "output_type": "stream",
     "text": [
      "1\n",
      "1\n",
      "120\n"
     ]
    }
   ],
   "source": [
    "def mul2(n=1):\n",
    "    result = 1\n",
    "    i = 1\n",
    "    while i <= n:\n",
    "        result *= i\n",
    "        i += 1\n",
    "        \n",
    "    return result\n",
    "\n",
    "print(mul2())\n",
    "print(mul2(1))\n",
    "print(mul2(5))"
   ]
  },
  {
   "cell_type": "markdown",
   "metadata": {},
   "source": [
    "# Стандартная библиотека, импорты\n",
    "\n",
    "Питон имеет очень большую стандартную библиотеку.\n",
    "\n",
    "Стандартная библиотека - это набот файлов, которые распространяются вместе с питоном. Если у Вас установлен питон, значит Вы можете использовать файлы из стандартной библиотеки.\n",
    "\n",
    "Есть много кода, который уже написан и чтобы не изобретать каждый раз велосипед, многие удобные функции поместили в библиотеку.\n",
    "\n",
    "Например, в стандартной библиотеке есть файл (модуль) `math`. В нем хранятся функции и переменные для математических вычислений (`sin`, `cos`, `pi`)"
   ]
  },
  {
   "cell_type": "code",
   "execution_count": 17,
   "metadata": {},
   "outputs": [
    {
     "name": "stdout",
     "output_type": "stream",
     "text": [
      "3.141592653589793\n",
      "0.0\n",
      "1.0\n"
     ]
    }
   ],
   "source": [
    "import math\n",
    "from math import cos\n",
    "from math import pi as PI\n",
    "\n",
    "print(PI)\n",
    "print(math.sin(0))\n",
    "print(cos(PI * 2))"
   ]
  },
  {
   "cell_type": "markdown",
   "metadata": {},
   "source": [
    "# Строки, их методы, индексация/срезы"
   ]
  },
  {
   "cell_type": "markdown",
   "metadata": {},
   "source": [
    "# Прикладные Пасхалки\n",
    "\n",
    ".\n",
    "\n",
    ".\n",
    "\n",
    ".\n",
    "\n",
    ".\n",
    "\n",
    ".\n",
    "\n",
    ".\n",
    "\n",
    ".\n",
    "\n",
    ".\n",
    "\n",
    ".\n",
    "\n",
    ".\n",
    "\n",
    ".\n",
    "\n",
    ".\n",
    "\n",
    ".\n",
    "\n",
    ".\n",
    "\n",
    ".\n",
    "\n",
    ".\n",
    "\n",
    ".\n",
    "\n",
    ".\n",
    "\n",
    ".\n",
    "\n",
    ".\n",
    "\n",
    ".\n",
    "\n",
    ".\n"
   ]
  },
  {
   "cell_type": "code",
   "execution_count": 4,
   "metadata": {},
   "outputs": [],
   "source": [
    "from math import sin, pi\n",
    "from utils.L002 import draw_line, write_wav\n",
    "\n",
    "%matplotlib inline"
   ]
  },
  {
   "cell_type": "code",
   "execution_count": 5,
   "metadata": {},
   "outputs": [],
   "source": [
    "def pow2(x):\n",
    "    return x * x"
   ]
  },
  {
   "cell_type": "code",
   "execution_count": 6,
   "metadata": {},
   "outputs": [],
   "source": [
    "def generate_values(func, start, end, step):\n",
    "    \"\"\"Идет с шагом step от start до end не включительно, генерируя значение функции.\n",
    "    \n",
    "    Returns: список с результатами\n",
    "    \n",
    "    \"\"\"\n",
    "    values = []\n",
    "    cur = start\n",
    "\n",
    "    while cur < end:\n",
    "        values.append(func(cur))\n",
    "        cur += step\n",
    "        \n",
    "    return values"
   ]
  },
  {
   "cell_type": "code",
   "execution_count": 7,
   "metadata": {},
   "outputs": [
    {
     "name": "stdout",
     "output_type": "stream",
     "text": [
      "[100, 49, 16, 1, 4, 25, 64]\n"
     ]
    },
    {
     "data": {
      "image/png": "[encoded data removed]",
      "text/plain": [
       "<matplotlib.figure.Figure at 0x7f12586a6a20>"
      ]
     },
     "metadata": {},
     "output_type": "display_data"
    }
   ],
   "source": [
    "values = generate_values(pow2, -10, 10, 3)\n",
    "print(values)\n",
    "draw_line(values)\n"
   ]
  },
  {
   "cell_type": "code",
   "execution_count": 14,
   "metadata": {},
   "outputs": [
    {
     "name": "stdout",
     "output_type": "stream",
     "text": [
      "[100, 90.25, 81.0, 72.25, 64.0, 56.25, 49.0, 42.25, 36.0, 30.25, 25.0, 20.25, 16.0, 12.25, 9.0, 6.25, 4.0, 2.25, 1.0, 0.25, 0.0, 0.25, 1.0, 2.25, 4.0, 6.25, 9.0, 12.25, 16.0, 20.25, 25.0, 30.25, 36.0, 42.25, 49.0, 56.25, 64.0, 72.25, 81.0, 90.25]\n"
     ]
    },
    {
     "data": {
      "image/png": "[encoded data removed]",
      "text/plain": [
       "<matplotlib.figure.Figure at 0x7f12563a29b0>"
      ]
     },
     "metadata": {},
     "output_type": "display_data"
    }
   ],
   "source": [
    "values = generate_values(pow2, -10, 10, 0.5)\n",
    "print(values)\n",
    "draw_line(values)"
   ]
  },
  {
   "cell_type": "code",
   "execution_count": 15,
   "metadata": {},
   "outputs": [
    {
     "name": "stdout",
     "output_type": "stream",
     "text": [
      "[0.0, 0.03133955622145082, 0.06264832417874368, 0.09389554585439044, 0.1250505236945281, 0.15608265076647385, 0.18696144082725333, 0.2176565582735623, 0.2481378479437379, 0.2783753647424632, 0.30833940305910035, 0.3380005259507516, 0.3673295940613788, 0.39629779424857153, 0.42487666788983847, 0.45303813884061694, 0.4807545410165317, 0.5079986455728067, 0.5347436876541296, 0.5609633926886876]\n"
     ]
    },
    {
     "data": {
      "image/png": "[encoded data removed]",
      "text/plain": [
       "<matplotlib.figure.Figure at 0x7f12551b0940>"
      ]
     },
     "metadata": {},
     "output_type": "display_data"
    }
   ],
   "source": [
    "def sin220(x):\n",
    "    return sin(x * 220 * 2 * pi / 44100) * 1\n",
    "\n",
    "values = generate_values(sin220, 0, 44100*4, 1)\n",
    "\n",
    "print(values[:20])\n",
    "draw_line(values[:2500], (17, 2))\n",
    "write_wav('tmp/sine.wav', 44100, values)"
   ]
  },
  {
   "cell_type": "code",
   "execution_count": 17,
   "metadata": {},
   "outputs": [
    {
     "name": "stdout",
     "output_type": "stream",
     "text": [
      "\n",
      "tmp/sine.wav:\n",
      "\n",
      " File Size: 1.41M     Bit Rate: 2.82M\n",
      "  Encoding: F.P. PCM      \n",
      "  Channels: 1 @ 53-bit   \n",
      "Samplerate: 44100Hz      \n",
      "Replaygain: off         \n",
      "  Duration: 00:00:04.00  \n",
      "\n",
      "In:100%  00:00:04.00 [00:00:00.00] Out:176k  [      |      ] Hd:0.0 Clip:0    \n",
      "Done.\n"
     ]
    }
   ],
   "source": [
    "!play 'tmp/sine.wav'"
   ]
  },
  {
   "cell_type": "code",
   "execution_count": null,
   "metadata": {},
   "outputs": [],
   "source": []
  }
 ],
 "metadata": {
  "kernelspec": {
   "display_name": "Python 3",
   "language": "python",
   "name": "python3"
  },
  "language_info": {
   "codemirror_mode": {
    "name": "ipython",
    "version": 3
   },
   "file_extension": ".py",
   "mimetype": "text/x-python",
   "name": "python",
   "nbconvert_exporter": "python",
   "pygments_lexer": "ipython3",
   "version": "3.6.2"
  }
 },
 "nbformat": 4,
 "nbformat_minor": 2
}
