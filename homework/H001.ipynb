{
 "cells": [
  {
   "cell_type": "markdown",
   "metadata": {},
   "source": [
    "## Немного о функциях\n",
    "\n",
    "Найти асимптотику функций:\n",
    "\n",
    "- $8\\log(n) + n$\n",
    "- $n\\log(n) + n \\sqrt{n}$\n",
    "- $n^2 + \\frac{2^n}{5}$\n",
    "- $N \\log(M) + M \\log(N)$\n",
    "- $M^2 \\times N + M \\times N^2 $, при $N \\gg M$\n",
    "- $NM \\log(M)$, при $N \\gg M$\n",
    "- $max(N, M) + 3\\log(N)$\n",
    "\n",
    "_Обозначения: $a \\gg b$ ($a$ много больше $b$) значит, что $b$ мало по сравнению с $a$ и $b$ можно пренебречь_"
   ]
  },
  {
   "cell_type": "markdown",
   "metadata": {},
   "source": [
    "## Асимптотика программ\n",
    "\n",
    "Найти асимптотику программ. Для каждой программы поясните, что она делает."
   ]
  },
  {
   "cell_type": "code",
   "execution_count": null,
   "metadata": {},
   "outputs": [],
   "source": [
    "# Задание 0\n",
    "N = int(input())\n",
    "M = int(input())\n",
    "\n",
    "r = 0\n",
    "for i in range(N):\n",
    "    r += i\n",
    "\n",
    "for i in range(1, M):\n",
    "    r *= i\n",
    "    \n",
    "print(r)"
   ]
  },
  {
   "cell_type": "code",
   "execution_count": null,
   "metadata": {},
   "outputs": [],
   "source": [
    "# Задание 1\n",
    "\n",
    "N = int(input())\n",
    "\n",
    "if N > 2:\n",
    "    correct = []\n",
    "\n",
    "    n1 = int(input())\n",
    "    n2 = int(input())\n",
    "\n",
    "    for i in range(1, N):\n",
    "        n3 = int(input())\n",
    "        if n1 < n2 and n2 > n3:\n",
    "            correct.append(n2)\n",
    "\n",
    "        n1 = n2\n",
    "        n2 = n3\n",
    "    print(*correct)"
   ]
  },
  {
   "cell_type": "code",
   "execution_count": null,
   "metadata": {},
   "outputs": [],
   "source": [
    "# Задание 2\n",
    "\n",
    "def function2(n):    \n",
    "    c = 0\n",
    "    while n:\n",
    "        c += n & 1\n",
    "        n >>= 1\n",
    "    return c\n",
    "\n",
    "N = int(input())\n",
    "M = int(input())\n",
    "\n",
    "m = max(N, M)\n",
    "c = function2(m)\n",
    "    \n",
    "print(c)"
   ]
  },
  {
   "cell_type": "code",
   "execution_count": null,
   "metadata": {},
   "outputs": [],
   "source": [
    "# Задание 3\n",
    "\n",
    "def function3 (a, n):\n",
    "    res = 1\n",
    "\n",
    "    while n > 0:\n",
    "        res *= a\n",
    "        n -= 1\n",
    "\n",
    "    return res;\n",
    "\n",
    "a = int(input())\n",
    "n = int(input())\n",
    "\n",
    "print(function3(a, n))"
   ]
  },
  {
   "cell_type": "code",
   "execution_count": null,
   "metadata": {},
   "outputs": [],
   "source": [
    "### Задание 4*\n",
    "\n",
    "def function4 (a, n):\n",
    "    res = 1\n",
    "\n",
    "    while n > 0:\n",
    "        if n & 1:\n",
    "            res *= a\n",
    "            n -= 1\n",
    "        else:\n",
    "            a *= a\n",
    "            n >>= 1\n",
    "\n",
    "    return res;\n",
    "\n",
    "a = int(input())\n",
    "n = int(input())\n",
    "\n",
    "print(function4(a, n))"
   ]
  },
  {
   "cell_type": "markdown",
   "metadata": {},
   "source": [
    "## Измерения\n",
    "\n",
    "Пусть X - ваш любимый язык программирования.\n",
    "\n",
    "Даны асимптотики:\n",
    "- $O(log(n))$\n",
    "- $O(1)$\n",
    "- $O(2^n)$\n",
    "- $O(n^2)$\n",
    "- $O(n \\times log(n))$\n",
    "- $O(n^3)$\n",
    "- $O(n \\sqrt{n})$\n",
    "\n",
    "Расположите асимптотики по возрастанию.\n",
    "\n",
    "Для каждой асимптотики напишите программу на языке X, работающую с такой асимптотикой. Это можно сделать с помощью цикла с количеством итераций, равнымм асимптотике. В тело цикла поместите несколько простых выражений, например, операцию инкремента. Необходимо замерить (если это возможно) при каком максимальном значении $n$ каждая программа будет работать примерно 10 секунд.\n",
    "\n",
    "Результаты расположите по возрастанию и расположите в табличку (асимптотика\\время). Совпадает ли расположение результатов после замеров с расположением результатов до замеров?\n",
    "\n",
    "Дополнительные вопросы:\n",
    "Изменится ли время, если добавить операций в тело цикла?\n",
    "Изменяется ли время, если одну и ту же программу запускать несколько раз? Почему? Как это исправить?"
   ]
  }
 ],
 "metadata": {
  "kernelspec": {
   "display_name": "Python 3",
   "language": "python",
   "name": "python3"
  },
  "language_info": {
   "codemirror_mode": {
    "name": "ipython",
    "version": 3
   },
   "file_extension": ".py",
   "mimetype": "text/x-python",
   "name": "python",
   "nbconvert_exporter": "python",
   "pygments_lexer": "ipython3",
   "version": "3.6.2"
  }
 },
 "nbformat": 4,
 "nbformat_minor": 2
}
