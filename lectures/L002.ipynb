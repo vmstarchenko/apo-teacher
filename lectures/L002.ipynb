{
 "cells": [
  {
   "cell_type": "code",
   "execution_count": null,
   "metadata": {},
   "outputs": [],
   "source": []
  },
  {
   "cell_type": "markdown",
   "metadata": {},
   "source": [
    "Демонстрация\n",
    "\n",
    ".\n",
    "\n",
    ".\n",
    "\n",
    ".\n",
    "\n",
    ".\n",
    "\n",
    ".\n",
    "\n",
    ".\n",
    "\n",
    ".\n",
    "\n",
    ".\n",
    "\n",
    ".\n",
    "\n",
    ".\n",
    "\n",
    ".\n",
    "\n",
    ".\n",
    "\n",
    ".\n",
    "\n",
    ".\n",
    "\n",
    ".\n",
    "\n",
    ".\n",
    "\n",
    ".\n",
    "\n",
    ".\n",
    "\n",
    ".\n",
    "\n",
    ".\n",
    "\n",
    ".\n",
    "\n",
    ".\n"
   ]
  },
  {
   "cell_type": "code",
   "execution_count": 1,
   "metadata": {},
   "outputs": [],
   "source": [
    "from math import sin\n",
    "\n",
    "import matplotlib\n",
    "import matplotlib.pyplot as plt\n",
    "from scipy.io.wavfile import read, write\n",
    "import numpy as np\n"
   ]
  },
  {
   "cell_type": "code",
   "execution_count": 2,
   "metadata": {},
   "outputs": [],
   "source": [
    "%matplotlib inline\n",
    "\n",
    "def draw_line(values, figsize=(4, 4)):\n",
    "    fig = plt.figure(figsize=figsize)\n",
    "    ax = fig.add_subplot(111)\n",
    "    ax.plot(values)\n",
    "    ax.axis('off')\n",
    "\n",
    "    \n",
    "def write_wav(filename, rate, data):\n",
    "    write(filename, rate, np.array(data))"
   ]
  },
  {
   "cell_type": "code",
   "execution_count": 3,
   "metadata": {},
   "outputs": [],
   "source": [
    "def pow2(x):\n",
    "    return x * x\n",
    "\n",
    "def sin440(x):\n",
    "    return sin(x * 440 / 44100) + 1"
   ]
  },
  {
   "cell_type": "code",
   "execution_count": 4,
   "metadata": {},
   "outputs": [],
   "source": [
    "def generate_values(func, start, end, step):\n",
    "    \"\"\"Идет с шагом step от start до end не включительно, генерируя значение функции.\n",
    "    \n",
    "    Returns: список с результатами\n",
    "    \n",
    "    \"\"\"\n",
    "    values = []\n",
    "    cur = start\n",
    "\n",
    "    while cur < end:\n",
    "        values.append(func(cur))\n",
    "        cur += step\n",
    "        \n",
    "    return values"
   ]
  },
  {
   "cell_type": "code",
   "execution_count": 5,
   "metadata": {},
   "outputs": [
    {
     "name": "stdout",
     "output_type": "stream",
     "text": [
      "[100, 49, 16, 1, 4, 25, 64]\n"
     ]
    },
    {
     "data": {
      "image/png": "[encoded data removed]",
      "text/plain": [
       "<matplotlib.figure.Figure at 0x7f83faeee748>"
      ]
     },
     "metadata": {},
     "output_type": "display_data"
    }
   ],
   "source": [
    "values = generate_values(pow2, -10, 10, 3)\n",
    "print(values)\n",
    "draw_line(values)\n"
   ]
  },
  {
   "cell_type": "code",
   "execution_count": 6,
   "metadata": {
    "scrolled": true
   },
   "outputs": [
    {
     "name": "stdout",
     "output_type": "stream",
     "text": [
      "[100, 90.25, 81.0, 72.25, 64.0, 56.25, 49.0, 42.25, 36.0, 30.25, 25.0, 20.25, 16.0, 12.25, 9.0, 6.25, 4.0, 2.25, 1.0, 0.25, 0.0, 0.25, 1.0, 2.25, 4.0, 6.25, 9.0, 12.25, 16.0, 20.25, 25.0, 30.25, 36.0, 42.25, 49.0, 56.25, 64.0, 72.25, 81.0, 90.25]\n"
     ]
    },
    {
     "data": {
      "image/png": "[encoded data removed]",
      "text/plain": [
       "<matplotlib.figure.Figure at 0x7f83f8e23ac8>"
      ]
     },
     "metadata": {},
     "output_type": "display_data"
    }
   ],
   "source": [
    "values = generate_values(pow2, -10, 10, 0.5)\n",
    "print(values)\n",
    "draw_line(values)"
   ]
  },
  {
   "cell_type": "code",
   "execution_count": 7,
   "metadata": {
    "scrolled": true
   },
   "outputs": [
    {
     "name": "stdout",
     "output_type": "stream",
     "text": [
      "[1.0, 1.0099771587284136, 1.0199533242688519, 1.0299275035322077, 1.0398987036271, 1.0498659319587123, 1.0598281963276024, 1.0697845050284718, 1.0797338669488854, 1.0896752916679338, 1.0996077895548253, 1.1095303718674008, 1.1194420508505583, 1.1293418398345803, 1.1392287533333536, 1.1491018071424706, 1.1589600184372015, 1.1688024058703335, 1.1786279896698577, 1.1884357917365034]\n"
     ]
    },
    {
     "data": {
      "image/png": "[encoded data removed]",
      "text/plain": [
       "<matplotlib.figure.Figure at 0x7f83f8eb6a20>"
      ]
     },
     "metadata": {},
     "output_type": "display_data"
    }
   ],
   "source": [
    "values = generate_values(sin440, 0, 44100*4, 1)\n",
    "\n",
    "print(values[:20])\n",
    "draw_line(values[:2500], (17, 2))\n",
    "write_wav('tmp/sine.wav', 44100, values)"
   ]
  },
  {
   "cell_type": "code",
   "execution_count": 8,
   "metadata": {
    "scrolled": false
   },
   "outputs": [
    {
     "name": "stdout",
     "output_type": "stream",
     "text": [
      "\n",
      "tmp/sine.wav:\n",
      "\n",
      " File Size: 1.41M     Bit Rate: 2.82M\n",
      "  Encoding: F.P. PCM      \n",
      "  Channels: 1 @ 53-bit   \n",
      "Samplerate: 44100Hz      \n",
      "Replaygain: off         \n",
      "  Duration: 00:00:04.00  \n",
      "\n",
      "In:100%  00:00:04.00 [00:00:00.00] Out:176k  [      |      ] Hd:0.0 Clip:88.2k\n",
      "play WARN sox: `tmp/sine.wav' input clipped 88235 samples\n",
      "Done.\n"
     ]
    }
   ],
   "source": [
    "!play 'tmp/sine.wav'"
   ]
  },
  {
   "cell_type": "code",
   "execution_count": null,
   "metadata": {},
   "outputs": [],
   "source": []
  }
 ],
 "metadata": {
  "kernelspec": {
   "display_name": "Python 3",
   "language": "python",
   "name": "python3"
  },
  "language_info": {
   "codemirror_mode": {
    "name": "ipython",
    "version": 3
   },
   "file_extension": ".py",
   "mimetype": "text/x-python",
   "name": "python",
   "nbconvert_exporter": "python",
   "pygments_lexer": "ipython3",
   "version": "3.6.2"
  }
 },
 "nbformat": 4,
 "nbformat_minor": 2
}
